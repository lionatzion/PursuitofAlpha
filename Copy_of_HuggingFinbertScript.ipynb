{
  "nbformat": 4,
  "nbformat_minor": 0,
  "metadata": {
    "colab": {
      "provenance": [],
      "authorship_tag": "ABX9TyMpOyIg8oJ0r4EHWLhovz7B",
      "include_colab_link": true
    },
    "kernelspec": {
      "name": "python3",
      "display_name": "Python 3"
    },
    "language_info": {
      "name": "python"
    }
  },
  "cells": [
    {
      "cell_type": "markdown",
      "metadata": {
        "id": "view-in-github",
        "colab_type": "text"
      },
      "source": [
        "<a href=\"https://colab.research.google.com/github/lionatzion/PursuitofAlpha/blob/main/Copy_of_HuggingFinbertScript.ipynb\" target=\"_parent\"><img src=\"https://colab.research.google.com/assets/colab-badge.svg\" alt=\"Open In Colab\"/></a>"
      ]
    },
    {
      "cell_type": "code",
      "execution_count": null,
      "metadata": {
        "colab": {
          "base_uri": "https://localhost:8080/"
        },
        "id": "NBu-j0PLYNOT",
        "outputId": "08dca265-76b2-4de6-9141-fe1276647e9a"
      },
      "outputs": [
        {
          "output_type": "stream",
          "name": "stdout",
          "text": [
            "✅ Models downloaded and saved to /content/models/hf/\n",
            "✅ Models zipped at: /content/finbert_models.zip\n"
          ]
        }
      ],
      "source": [
        "# Step 1: Install required libraries\n",
        "!pip install transformers torch --quiet\n",
        "\n",
        "# Step 2: Import libraries\n",
        "from transformers import AutoModelForSequenceClassification, AutoTokenizer\n",
        "import os\n",
        "import zipfile\n",
        "\n",
        "# Step 3: Define models to download\n",
        "models = {\n",
        "    \"finbert\": \"ProsusAI/finbert\",\n",
        "    \"finbert-tone\": \"yiyanghkust/finbert-tone\"\n",
        "}\n",
        "\n",
        "# Step 4: Download and save models\n",
        "for name, hf_path in models.items():\n",
        "    save_dir = f\"/content/models/hf/{name}\"\n",
        "    os.makedirs(save_dir, exist_ok=True)\n",
        "    model = AutoModelForSequenceClassification.from_pretrained(hf_path)\n",
        "    tokenizer = AutoTokenizer.from_pretrained(hf_path)\n",
        "    model.save_pretrained(save_dir)\n",
        "    tokenizer.save_pretrained(save_dir)\n",
        "\n",
        "print(\"✅ Models downloaded and saved to /content/models/hf/\")\n",
        "\n",
        "# Step 5: Zip for download\n",
        "zip_path = \"/content/finbert_models.zip\"\n",
        "with zipfile.ZipFile(zip_path, 'w', zipfile.ZIP_DEFLATED) as zipf:\n",
        "    for root, dirs, files in os.walk(\"/content/models/hf\"):\n",
        "        for file in files:\n",
        "            full_path = os.path.join(root, file)\n",
        "            arcname = os.path.relpath(full_path, \"/content/models/hf\")\n",
        "            zipf.write(full_path, os.path.join(\"hf\", arcname))\n",
        "\n",
        "print(f\"✅ Models zipped at: {zip_path}\")\n"
      ]
    },
    {
      "cell_type": "code",
      "source": [
        "from huggingface_hub import login\n",
        "from google.colab import userdata\n",
        "\n",
        "# Make sure to store your Hugging Face token in Colab's secrets with the name \"HF_TOKEN\"\n",
        "hf_token = userdata.get('HF_TOKEN')\n",
        "login(hf_token)"
      ],
      "metadata": {
        "id": "puXHqm3sbH-H"
      },
      "execution_count": null,
      "outputs": []
    }
  ]
}